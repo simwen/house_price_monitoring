{
 "cells": [
  {
   "cell_type": "code",
   "execution_count": 108,
   "id": "aaeafaf7",
   "metadata": {},
   "outputs": [],
   "source": [
    "import requests\n",
    "from bs4 import BeautifulSoup\n",
    "import pandas as pd\n",
    "import time\n",
    "import numpy as np\n",
    "import re\n",
    "import json\n",
    "from datetime import date, datetime, timedelta\n",
    "import matplotlib\n",
    "from matplotlib import pyplot as plt\n",
    "from matplotlib import ticker"
   ]
  },
  {
   "cell_type": "code",
   "execution_count": 109,
   "id": "66d53e16",
   "metadata": {},
   "outputs": [],
   "source": [
    "# file naming variables\n",
    "today = date.today()\n",
    "last_version = today - timedelta(days=7)\n",
    "location = '/Users/Sim/Documents/Other/Programming/Personal Projects/Property Price Monitor'"
   ]
  },
  {
   "cell_type": "code",
   "execution_count": 110,
   "id": "ebee5c87",
   "metadata": {},
   "outputs": [],
   "source": [
    "# Load last week's data\n",
    "df = pd.read_csv(f'{location}/data/df_{last_version}.csv')\n",
    "df = df.drop('Unnamed: 0', axis=1)"
   ]
  },
  {
   "cell_type": "code",
   "execution_count": 111,
   "id": "d164d472",
   "metadata": {},
   "outputs": [],
   "source": [
    "df2 = pd.DataFrame(\n",
    "    {\"Date\": [],\n",
    "     \"Average Price\": [],\n",
    "     \"Median Price\": [],\n",
    "     \"10th Percentile\": [],\n",
    "     \"90th Percentile\": [],\n",
    "     \"Std dev\": [],\n",
    "     \"Sample Size\": []\n",
    "    })"
   ]
  },
  {
   "cell_type": "code",
   "execution_count": 112,
   "id": "484a65be",
   "metadata": {},
   "outputs": [],
   "source": [
    "# First import the scraping functions\n",
    "from ipynb.fs.full.Monitor_funcs import scrape_results_page"
   ]
  },
  {
   "cell_type": "markdown",
   "id": "abb96a16",
   "metadata": {},
   "source": [
    "### Scraper\n",
    "\n",
    "*The scraper Loops through rightmove results pages of 5 London areas extracting link, price and featured property status of each property*\n",
    "\n",
    "\n",
    "**What areas?**\n",
    "\n",
    "5 relevant, non-overlapping areas defined by a 1 mile (or 0.5 mile) radius around the following tube stations (also see screenshot below):\n",
    "- Kentish Town (1 mile)\n",
    "- Royal Oak (1 mile)\n",
    "- Finchley Road (1 mile)\n",
    "- Angel (1 mile)\n",
    "- Mornington Crescent (0.5 miles)\n",
    "\n",
    "\n",
    "**What search criteria are used?**\n",
    "\n",
    "I specify that properties must:\n",
    "- have exactly 2 bedrooms and be a house/flat/apartment to ensure we compare like with like\n",
    "- have been posted in last 7 days to ensure they don't appear in last week's scrape\n",
    "\n",
    "\n",
    "**Why are there two scrapers?**\n",
    "\n",
    "The first scraper loops through the 4 stations with 1mile radii. Due to the much lower number of properties in 0.5 miles around Mornington Crescent, results rarely go onto a second page meaning. Therefore I simply created a specific scraping code for it."
   ]
  },
  {
   "cell_type": "markdown",
   "id": "64f1cc9d",
   "metadata": {},
   "source": [
    "![alt text](Areas.png \"Areas\")"
   ]
  },
  {
   "cell_type": "code",
   "execution_count": 113,
   "id": "78b80189",
   "metadata": {},
   "outputs": [],
   "source": [
    "links = scrape_results_page()[1]\n",
    "date_time = scrape_results_page()[2]\n",
    "prices = scrape_results_page()[3]\n",
    "featured = scrape_results_page()[4]"
   ]
  },
  {
   "cell_type": "code",
   "execution_count": 114,
   "id": "fbc3ec07",
   "metadata": {},
   "outputs": [],
   "source": [
    "date_time = pd.to_datetime(date_time,dayfirst = True, format = \"%d/%m/%Y %H:%M\")\n",
    "dates = date_time.date"
   ]
  },
  {
   "cell_type": "code",
   "execution_count": 115,
   "id": "332b731c",
   "metadata": {},
   "outputs": [],
   "source": [
    "# convert to dataframe\n",
    "data = {\"Links\": links,\n",
    "        \"DateTimeScraped\": date_time,\n",
    "        \"DateScraped\": dates,\n",
    "        \"Price\": prices,\n",
    "        \"Featured\": featured,\n",
    "       }\n",
    "df3 = pd.DataFrame.from_dict(data)"
   ]
  },
  {
   "cell_type": "code",
   "execution_count": 120,
   "id": "6c8cbcdf",
   "metadata": {},
   "outputs": [
    {
     "data": {
      "text/plain": [
       "114"
      ]
     },
     "execution_count": 120,
     "metadata": {},
     "output_type": "execute_result"
    }
   ],
   "source": [
    "len(df3)"
   ]
  },
  {
   "cell_type": "code",
   "execution_count": 119,
   "id": "ba1495fa",
   "metadata": {},
   "outputs": [],
   "source": [
    "# Remove featured properties\n",
    "df3 = df3[df3.Featured != 1]\n",
    "\n",
    "# Sampling 120 rows\n",
    "df3=df3.sample(n = min(120,len(df3)))"
   ]
  },
  {
   "cell_type": "code",
   "execution_count": 124,
   "id": "89003476",
   "metadata": {},
   "outputs": [
    {
     "data": {
      "text/html": [
       "<div>\n",
       "<style scoped>\n",
       "    .dataframe tbody tr th:only-of-type {\n",
       "        vertical-align: middle;\n",
       "    }\n",
       "\n",
       "    .dataframe tbody tr th {\n",
       "        vertical-align: top;\n",
       "    }\n",
       "\n",
       "    .dataframe thead th {\n",
       "        text-align: right;\n",
       "    }\n",
       "</style>\n",
       "<table border=\"1\" class=\"dataframe\">\n",
       "  <thead>\n",
       "    <tr style=\"text-align: right;\">\n",
       "      <th></th>\n",
       "      <th>Date</th>\n",
       "      <th>Average Price</th>\n",
       "      <th>Median Price</th>\n",
       "      <th>10th Percentile</th>\n",
       "      <th>90th Percentile</th>\n",
       "      <th>Std dev</th>\n",
       "      <th>Sample Size</th>\n",
       "    </tr>\n",
       "  </thead>\n",
       "  <tbody>\n",
       "    <tr>\n",
       "      <th>0</th>\n",
       "      <td>06/11/2022</td>\n",
       "      <td>867789.56</td>\n",
       "      <td>850000.0</td>\n",
       "      <td>524000.0</td>\n",
       "      <td>1250000.0</td>\n",
       "      <td>303834.617</td>\n",
       "      <td>120</td>\n",
       "    </tr>\n",
       "    <tr>\n",
       "      <th>1</th>\n",
       "      <td>13/11/2022</td>\n",
       "      <td>952266.24</td>\n",
       "      <td>875000.0</td>\n",
       "      <td>497500.0</td>\n",
       "      <td>1477500.0</td>\n",
       "      <td>448923.051</td>\n",
       "      <td>120</td>\n",
       "    </tr>\n",
       "    <tr>\n",
       "      <th>2</th>\n",
       "      <td>20/11/2022</td>\n",
       "      <td>871647.03</td>\n",
       "      <td>812500.0</td>\n",
       "      <td>500000.0</td>\n",
       "      <td>1254500.0</td>\n",
       "      <td>327990.409</td>\n",
       "      <td>120</td>\n",
       "    </tr>\n",
       "    <tr>\n",
       "      <th>0</th>\n",
       "      <td>27/11/2022</td>\n",
       "      <td>898337.72</td>\n",
       "      <td>850000.0</td>\n",
       "      <td>532500.0</td>\n",
       "      <td>1335000.0</td>\n",
       "      <td>324512.391</td>\n",
       "      <td>114</td>\n",
       "    </tr>\n",
       "    <tr>\n",
       "      <th>4</th>\n",
       "      <td>27/11/2022</td>\n",
       "      <td>898337.72</td>\n",
       "      <td>850000.0</td>\n",
       "      <td>532500.0</td>\n",
       "      <td>1335000.0</td>\n",
       "      <td>324512.391</td>\n",
       "      <td>114</td>\n",
       "    </tr>\n",
       "  </tbody>\n",
       "</table>\n",
       "</div>"
      ],
      "text/plain": [
       "         Date  Average Price  Median Price  10th Percentile  90th Percentile  \\\n",
       "0  06/11/2022      867789.56      850000.0         524000.0        1250000.0   \n",
       "1  13/11/2022      952266.24      875000.0         497500.0        1477500.0   \n",
       "2  20/11/2022      871647.03      812500.0         500000.0        1254500.0   \n",
       "0  27/11/2022      898337.72      850000.0         532500.0        1335000.0   \n",
       "4  27/11/2022      898337.72      850000.0         532500.0        1335000.0   \n",
       "\n",
       "      Std dev  Sample Size  \n",
       "0  303834.617          120  \n",
       "1  448923.051          120  \n",
       "2  327990.409          120  \n",
       "0  324512.391          114  \n",
       "4  324512.391          114  "
      ]
     },
     "execution_count": 124,
     "metadata": {},
     "output_type": "execute_result"
    }
   ],
   "source": [
    "# Key scrape info\n",
    "date = datetime.strptime(str(df3.loc[2,'DateScraped']), \"%Y-%m-%d\").strftime(\"%d/%m/%Y\")\n",
    "avg_price, n = round(np.mean(df3['Price']),2), len(df3)\n",
    "median_price, ten  = round(np.median(df3['Price']),2), round(np.percentile(df3['Price'], 10),2)\n",
    "ninety, st_dev = round(np.percentile(df3['Price'], 90),2), round(np.std(df3['Price']),3)\n",
    "\n",
    "# Key info df\n",
    "df2.loc[len(df2)] = [date, avg_price,median_price, ten,ninety, st_dev,n]\n",
    "df2"
   ]
  },
  {
   "cell_type": "code",
   "execution_count": 131,
   "id": "95a2b402",
   "metadata": {},
   "outputs": [
    {
     "data": {
      "text/html": [
       "<div>\n",
       "<style scoped>\n",
       "    .dataframe tbody tr th:only-of-type {\n",
       "        vertical-align: middle;\n",
       "    }\n",
       "\n",
       "    .dataframe tbody tr th {\n",
       "        vertical-align: top;\n",
       "    }\n",
       "\n",
       "    .dataframe thead th {\n",
       "        text-align: right;\n",
       "    }\n",
       "</style>\n",
       "<table border=\"1\" class=\"dataframe\">\n",
       "  <thead>\n",
       "    <tr style=\"text-align: right;\">\n",
       "      <th></th>\n",
       "      <th>Date</th>\n",
       "      <th>Average Price</th>\n",
       "      <th>Median Price</th>\n",
       "      <th>10th Percentile</th>\n",
       "      <th>90th Percentile</th>\n",
       "      <th>Std dev</th>\n",
       "      <th>Sample Size</th>\n",
       "    </tr>\n",
       "  </thead>\n",
       "  <tbody>\n",
       "    <tr>\n",
       "      <th>0</th>\n",
       "      <td>06/11/2022</td>\n",
       "      <td>867789.56</td>\n",
       "      <td>850000.0</td>\n",
       "      <td>524000.0</td>\n",
       "      <td>1250000.0</td>\n",
       "      <td>303834.617</td>\n",
       "      <td>120</td>\n",
       "    </tr>\n",
       "    <tr>\n",
       "      <th>1</th>\n",
       "      <td>13/11/2022</td>\n",
       "      <td>952266.24</td>\n",
       "      <td>875000.0</td>\n",
       "      <td>497500.0</td>\n",
       "      <td>1477500.0</td>\n",
       "      <td>448923.051</td>\n",
       "      <td>120</td>\n",
       "    </tr>\n",
       "    <tr>\n",
       "      <th>2</th>\n",
       "      <td>20/11/2022</td>\n",
       "      <td>871647.03</td>\n",
       "      <td>812500.0</td>\n",
       "      <td>500000.0</td>\n",
       "      <td>1254500.0</td>\n",
       "      <td>327990.409</td>\n",
       "      <td>120</td>\n",
       "    </tr>\n",
       "    <tr>\n",
       "      <th>3</th>\n",
       "      <td>27/11/2022</td>\n",
       "      <td>898337.72</td>\n",
       "      <td>850000.0</td>\n",
       "      <td>532500.0</td>\n",
       "      <td>1335000.0</td>\n",
       "      <td>324512.391</td>\n",
       "      <td>114</td>\n",
       "    </tr>\n",
       "  </tbody>\n",
       "</table>\n",
       "</div>"
      ],
      "text/plain": [
       "         Date  Average Price  Median Price  10th Percentile  90th Percentile  \\\n",
       "0  06/11/2022      867789.56      850000.0         524000.0        1250000.0   \n",
       "1  13/11/2022      952266.24      875000.0         497500.0        1477500.0   \n",
       "2  20/11/2022      871647.03      812500.0         500000.0        1254500.0   \n",
       "3  27/11/2022      898337.72      850000.0         532500.0        1335000.0   \n",
       "\n",
       "      Std dev  Sample Size  \n",
       "0  303834.617          120  \n",
       "1  448923.051          120  \n",
       "2  327990.409          120  \n",
       "3  324512.391          114  "
      ]
     },
     "execution_count": 131,
     "metadata": {},
     "output_type": "execute_result"
    }
   ],
   "source": [
    "#df2 = df2.reset_index(drop=True)\n",
    "#df2=df2.drop([4])\n",
    "#df2"
   ]
  },
  {
   "cell_type": "code",
   "execution_count": 132,
   "id": "08fd28e9",
   "metadata": {},
   "outputs": [
    {
     "data": {
      "text/html": [
       "<div>\n",
       "<style scoped>\n",
       "    .dataframe tbody tr th:only-of-type {\n",
       "        vertical-align: middle;\n",
       "    }\n",
       "\n",
       "    .dataframe tbody tr th {\n",
       "        vertical-align: top;\n",
       "    }\n",
       "\n",
       "    .dataframe thead th {\n",
       "        text-align: right;\n",
       "    }\n",
       "</style>\n",
       "<table border=\"1\" class=\"dataframe\">\n",
       "  <thead>\n",
       "    <tr style=\"text-align: right;\">\n",
       "      <th></th>\n",
       "      <th>Date</th>\n",
       "      <th>Average Price</th>\n",
       "      <th>Median Price</th>\n",
       "      <th>10th Percentile</th>\n",
       "      <th>90th Percentile</th>\n",
       "      <th>Std dev</th>\n",
       "      <th>Sample Size</th>\n",
       "    </tr>\n",
       "  </thead>\n",
       "  <tbody>\n",
       "    <tr>\n",
       "      <th>0</th>\n",
       "      <td>06/11/2022</td>\n",
       "      <td>867789.56</td>\n",
       "      <td>850000.0</td>\n",
       "      <td>524000.0</td>\n",
       "      <td>1250000.0</td>\n",
       "      <td>303834.617</td>\n",
       "      <td>120</td>\n",
       "    </tr>\n",
       "    <tr>\n",
       "      <th>1</th>\n",
       "      <td>13/11/2022</td>\n",
       "      <td>952266.24</td>\n",
       "      <td>875000.0</td>\n",
       "      <td>497500.0</td>\n",
       "      <td>1477500.0</td>\n",
       "      <td>448923.051</td>\n",
       "      <td>120</td>\n",
       "    </tr>\n",
       "    <tr>\n",
       "      <th>2</th>\n",
       "      <td>20/11/2022</td>\n",
       "      <td>871647.03</td>\n",
       "      <td>812500.0</td>\n",
       "      <td>500000.0</td>\n",
       "      <td>1254500.0</td>\n",
       "      <td>327990.409</td>\n",
       "      <td>120</td>\n",
       "    </tr>\n",
       "    <tr>\n",
       "      <th>3</th>\n",
       "      <td>27/11/2022</td>\n",
       "      <td>898337.72</td>\n",
       "      <td>850000.0</td>\n",
       "      <td>532500.0</td>\n",
       "      <td>1335000.0</td>\n",
       "      <td>324512.391</td>\n",
       "      <td>114</td>\n",
       "    </tr>\n",
       "  </tbody>\n",
       "</table>\n",
       "</div>"
      ],
      "text/plain": [
       "         Date  Average Price  Median Price  10th Percentile  90th Percentile  \\\n",
       "0  06/11/2022      867789.56      850000.0         524000.0        1250000.0   \n",
       "1  13/11/2022      952266.24      875000.0         497500.0        1477500.0   \n",
       "2  20/11/2022      871647.03      812500.0         500000.0        1254500.0   \n",
       "3  27/11/2022      898337.72      850000.0         532500.0        1335000.0   \n",
       "\n",
       "      Std dev  Sample Size  \n",
       "0  303834.617          120  \n",
       "1  448923.051          120  \n",
       "2  327990.409          120  \n",
       "3  324512.391          114  "
      ]
     },
     "execution_count": 132,
     "metadata": {},
     "output_type": "execute_result"
    }
   ],
   "source": [
    "df2 = pd.concat([df, df2]).reset_index(drop=True)\n",
    "df2"
   ]
  },
  {
   "cell_type": "code",
   "execution_count": 133,
   "id": "80da3a44",
   "metadata": {},
   "outputs": [],
   "source": [
    "# Save to csv\n",
    "df3.to_csv(f'{location}/data/full_df_{today}.csv') \n",
    "df2.to_csv(f'{location}/data/df_{today}.csv')"
   ]
  },
  {
   "cell_type": "code",
   "execution_count": 134,
   "id": "377c26ff",
   "metadata": {},
   "outputs": [
    {
     "data": {
      "image/png": "[encoded data removed]",
      "text/plain": [
       "<Figure size 640x480 with 1 Axes>"
      ]
     },
     "metadata": {},
     "output_type": "display_data"
    }
   ],
   "source": [
    "# Plotting\n",
    "fig, ax = plt.subplots()\n",
    "ax.plot(df2['Date'],df2['Median Price'])\n",
    "\n",
    "# Use automatic StrMethodFormatter\n",
    "ax.get_yaxis().set_major_formatter(matplotlib.ticker.FuncFormatter(lambda x, p: '£{:,}'.format(int(x), ',')))\n",
    "ax.yaxis.set_tick_params(which='major', labelcolor='black',labelleft=True)\n",
    "ax.plot(df2['Date'],df2['Median Price'], \".\", color = 'b')\n",
    "\n",
    "plt.ylabel('Median Price')\n",
    "plt.xlabel('Date')\n",
    "plt.ylim([min(df2['Median Price'])-40000, max(df2['Median Price'])+40000])\n",
    "\n",
    "#plt.savefig(f'{location}/charts/{today}_medians.png')\n",
    "plt.show()"
   ]
  },
  {
   "cell_type": "code",
   "execution_count": null,
   "id": "57df528d",
   "metadata": {},
   "outputs": [],
   "source": [
    "fig, ax = plt.subplots()\n",
    "ax.plot(df2['Date'],df2['Average Price'])\n",
    "\n",
    "# Use automatic StrMethodFormatter\n",
    "ax.get_yaxis().set_major_formatter(matplotlib.ticker.FuncFormatter(lambda x, p: '£{:,}'.format(int(x), ',')))\n",
    "ax.yaxis.set_tick_params(which='major', labelcolor='black',labelleft=True)\n",
    "ax.plot(df2['Date'],df2['Average Price'], \".\", color = 'b')\n",
    "\n",
    "plt.ylabel('Median Price')\n",
    "plt.xlabel('Date')\n",
    "plt.ylim([min(df2['Average Price'])-40000, max(df2['Average Price'])+40000])\n",
    "\n",
    "plt.show()"
   ]
  }
 ],
 "metadata": {
  "kernelspec": {
   "display_name": "Python 3 (ipykernel)",
   "language": "python",
   "name": "python3"
  },
  "language_info": {
   "codemirror_mode": {
    "name": "ipython",
    "version": 3
   },
   "file_extension": ".py",
   "mimetype": "text/x-python",
   "name": "python",
   "nbconvert_exporter": "python",
   "pygments_lexer": "ipython3",
   "version": "3.8.8"
  }
 },
 "nbformat": 4,
 "nbformat_minor": 5
}
