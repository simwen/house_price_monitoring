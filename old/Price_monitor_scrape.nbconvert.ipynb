{
 "cells": [
  {
   "cell_type": "code",
   "execution_count": 1,
   "id": "aaeafaf7",
   "metadata": {
    "execution": {
     "iopub.execute_input": "2022-11-05T17:25:27.064129Z",
     "iopub.status.busy": "2022-11-05T17:25:27.062886Z",
     "iopub.status.idle": "2022-11-05T17:25:30.204758Z",
     "shell.execute_reply": "2022-11-05T17:25:30.205336Z"
    }
   },
   "outputs": [],
   "source": [
    "import requests\n",
    "from bs4 import BeautifulSoup\n",
    "import pandas as pd\n",
    "import time\n",
    "import numpy as np\n",
    "import re\n",
    "import json\n",
    "from datetime import date, datetime, timedelta\n",
    "import matplotlib.pyplot as plt"
   ]
  },
  {
   "cell_type": "code",
   "execution_count": 2,
   "id": "66d53e16",
   "metadata": {
    "execution": {
     "iopub.execute_input": "2022-11-05T17:25:30.212713Z",
     "iopub.status.busy": "2022-11-05T17:25:30.211514Z",
     "iopub.status.idle": "2022-11-05T17:25:30.214969Z",
     "shell.execute_reply": "2022-11-05T17:25:30.214322Z"
    }
   },
   "outputs": [],
   "source": [
    "# file naming variables\n",
    "today = date.today()\n",
    "last_version = today - timedelta(days=7)\n",
    "location = '/Users/Sim/Documents/Other/Programming/Personal Projects/Property Price Monitor'"
   ]
  },
  {
   "cell_type": "code",
   "execution_count": 3,
   "id": "d164d472",
   "metadata": {
    "execution": {
     "iopub.execute_input": "2022-11-05T17:25:30.222466Z",
     "iopub.status.busy": "2022-11-05T17:25:30.221545Z",
     "iopub.status.idle": "2022-11-05T17:25:30.224215Z",
     "shell.execute_reply": "2022-11-05T17:25:30.224762Z"
    }
   },
   "outputs": [],
   "source": [
    "df2 = pd.DataFrame(\n",
    "    {\"Date\": [],\n",
    "     \"Average Price\": [],\n",
    "     \"Median Price\": [],\n",
    "     \"10th Percentile\": [],\n",
    "     \"90th Percentile\": [],\n",
    "     \"Std dev\": [],\n",
    "     \"Sample Size\": []\n",
    "    })"
   ]
  },
  {
   "cell_type": "code",
   "execution_count": 4,
   "id": "484a65be",
   "metadata": {
    "execution": {
     "iopub.execute_input": "2022-11-05T17:25:30.231105Z",
     "iopub.status.busy": "2022-11-05T17:25:30.230281Z",
     "iopub.status.idle": "2022-11-05T17:25:30.247899Z",
     "shell.execute_reply": "2022-11-05T17:25:30.248494Z"
    }
   },
   "outputs": [],
   "source": [
    "# First import the scraping functions\n",
    "from ipynb.fs.full.Monitor_funcs import scrape_results_page"
   ]
  },
  {
   "cell_type": "markdown",
   "id": "abb96a16",
   "metadata": {},
   "source": [
    "### Scraper\n",
    "\n",
    "*The scraper Loops through rightmove results pages of 5 London areas extracting link, price and featured property status of each property*\n",
    "\n",
    "\n",
    "**What areas?**\n",
    "\n",
    "5 relevant, non-overlapping areas defined by a 1 mile (or 0.5 mile) radius around the following tube stations (also see screenshot below):\n",
    "- Kentish Town (1 mile)\n",
    "- Royal Oak (1 mile)\n",
    "- Finchley Road (1 mile)\n",
    "- Angel (1 mile)\n",
    "- Mornington Crescent (0.5 miles)\n",
    "\n",
    "\n",
    "**What search criteria are used?**\n",
    "\n",
    "I specify that properties must:\n",
    "- have exactly 2 bedrooms and be a house/flat/apartment to ensure we compare like with like\n",
    "- have been posted in last 7 days to ensure they don't appear in last week's scrape\n",
    "\n",
    "\n",
    "**Why are there two scrapers?**\n",
    "\n",
    "The first scraper loops through the 4 stations with 1mile radii. Due to the much lower number of properties in 0.5 miles around Mornington Crescent, results rarely go onto a second page meaning. Therefore I simply created a specific scraping code for it."
   ]
  },
  {
   "cell_type": "markdown",
   "id": "64f1cc9d",
   "metadata": {},
   "source": [
    "![alt text](Areas.png \"Areas\")"
   ]
  },
  {
   "cell_type": "code",
   "execution_count": 5,
   "id": "78b80189",
   "metadata": {
    "execution": {
     "iopub.execute_input": "2022-11-05T17:25:30.255357Z",
     "iopub.status.busy": "2022-11-05T17:25:30.254554Z",
     "iopub.status.idle": "2022-11-05T17:25:50.986309Z",
     "shell.execute_reply": "2022-11-05T17:25:50.985543Z"
    }
   },
   "outputs": [],
   "source": [
    "links = scrape_results_page()[1]\n",
    "date_time = scrape_results_page()[2]\n",
    "prices = scrape_results_page()[3]\n",
    "featured = scrape_results_page()[4]"
   ]
  },
  {
   "cell_type": "code",
   "execution_count": 6,
   "id": "fbc3ec07",
   "metadata": {
    "execution": {
     "iopub.execute_input": "2022-11-05T17:25:50.994486Z",
     "iopub.status.busy": "2022-11-05T17:25:50.991380Z",
     "iopub.status.idle": "2022-11-05T17:25:50.997098Z",
     "shell.execute_reply": "2022-11-05T17:25:50.997656Z"
    }
   },
   "outputs": [],
   "source": [
    "date_time = pd.to_datetime(date_time,dayfirst = True, format = \"%d/%m/%Y %H:%M\")\n",
    "dates = date_time.date"
   ]
  },
  {
   "cell_type": "code",
   "execution_count": 7,
   "id": "332b731c",
   "metadata": {
    "execution": {
     "iopub.execute_input": "2022-11-05T17:25:51.004411Z",
     "iopub.status.busy": "2022-11-05T17:25:51.000783Z",
     "iopub.status.idle": "2022-11-05T17:25:51.007011Z",
     "shell.execute_reply": "2022-11-05T17:25:51.007655Z"
    }
   },
   "outputs": [],
   "source": [
    "# convert to dataframe\n",
    "data = {\"Links\": links,\n",
    "        \"DateTimeScraped\": date_time,\n",
    "        \"DateScraped\": dates,\n",
    "        \"Price\": prices,\n",
    "        \"Featured\": featured,\n",
    "       }\n",
    "df = pd.DataFrame.from_dict(data)"
   ]
  },
  {
   "cell_type": "code",
   "execution_count": 8,
   "id": "ba1495fa",
   "metadata": {
    "execution": {
     "iopub.execute_input": "2022-11-05T17:25:51.015200Z",
     "iopub.status.busy": "2022-11-05T17:25:51.014199Z",
     "iopub.status.idle": "2022-11-05T17:25:51.016910Z",
     "shell.execute_reply": "2022-11-05T17:25:51.017460Z"
    }
   },
   "outputs": [],
   "source": [
    "# Remove featured properties\n",
    "df = df[df.Featured != 1]\n",
    "\n",
    "# Sampling 120 rows\n",
    "df=df.sample(n = 120)"
   ]
  },
  {
   "cell_type": "code",
   "execution_count": 9,
   "id": "89003476",
   "metadata": {
    "execution": {
     "iopub.execute_input": "2022-11-05T17:25:51.033226Z",
     "iopub.status.busy": "2022-11-05T17:25:51.032359Z",
     "iopub.status.idle": "2022-11-05T17:25:51.047071Z",
     "shell.execute_reply": "2022-11-05T17:25:51.047630Z"
    }
   },
   "outputs": [
    {
     "data": {
      "text/html": [
       "<div>\n",
       "<style scoped>\n",
       "    .dataframe tbody tr th:only-of-type {\n",
       "        vertical-align: middle;\n",
       "    }\n",
       "\n",
       "    .dataframe tbody tr th {\n",
       "        vertical-align: top;\n",
       "    }\n",
       "\n",
       "    .dataframe thead th {\n",
       "        text-align: right;\n",
       "    }\n",
       "</style>\n",
       "<table border=\"1\" class=\"dataframe\">\n",
       "  <thead>\n",
       "    <tr style=\"text-align: right;\">\n",
       "      <th></th>\n",
       "      <th>Date</th>\n",
       "      <th>Average Price</th>\n",
       "      <th>Median Price</th>\n",
       "      <th>10th Percentile</th>\n",
       "      <th>90th Percentile</th>\n",
       "      <th>Std dev</th>\n",
       "      <th>Sample Size</th>\n",
       "    </tr>\n",
       "  </thead>\n",
       "  <tbody>\n",
       "    <tr>\n",
       "      <th>0</th>\n",
       "      <td>2022-11-05</td>\n",
       "      <td>859297.89</td>\n",
       "      <td>850000.0</td>\n",
       "      <td>522500.0</td>\n",
       "      <td>1250000.0</td>\n",
       "      <td>301294.541</td>\n",
       "      <td>120.0</td>\n",
       "    </tr>\n",
       "  </tbody>\n",
       "</table>\n",
       "</div>"
      ],
      "text/plain": [
       "         Date  Average Price  Median Price  10th Percentile  90th Percentile  \\\n",
       "0  2022-11-05      859297.89      850000.0         522500.0        1250000.0   \n",
       "\n",
       "      Std dev  Sample Size  \n",
       "0  301294.541        120.0  "
      ]
     },
     "execution_count": 9,
     "metadata": {},
     "output_type": "execute_result"
    }
   ],
   "source": [
    "# Key scrape info\n",
    "date, avg_price, n = df.loc[1,'DateScraped'], round(np.mean(df['Price']),2), len(df)\n",
    "median_price, ten  = round(np.median(df['Price']),2), round(np.percentile(df['Price'], 10),2)\n",
    "ninety, st_dev = round(np.percentile(df['Price'], 90),2), round(np.std(df['Price']),3)\n",
    "\n",
    "# Key info df\n",
    "df2.loc[len(df2)] = [date, avg_price,median_price, ten,ninety, st_dev,n]\n",
    "df2"
   ]
  },
  {
   "cell_type": "code",
   "execution_count": 10,
   "id": "80da3a44",
   "metadata": {
    "execution": {
     "iopub.execute_input": "2022-11-05T17:25:51.052759Z",
     "iopub.status.busy": "2022-11-05T17:25:51.050687Z",
     "iopub.status.idle": "2022-11-05T17:25:51.061947Z",
     "shell.execute_reply": "2022-11-05T17:25:51.062528Z"
    }
   },
   "outputs": [],
   "source": [
    "# Save to csv\n",
    "df.to_csv(f'{location}/full_df_{today}.csv')\n",
    "df2.to_csv(f'{location}/df_{today}.csv')"
   ]
  }
 ],
 "metadata": {
  "kernelspec": {
   "display_name": "Python 3 (ipykernel)",
   "language": "python",
   "name": "python3"
  },
  "language_info": {
   "codemirror_mode": {
    "name": "ipython",
    "version": 3
   },
   "file_extension": ".py",
   "mimetype": "text/x-python",
   "name": "python",
   "nbconvert_exporter": "python",
   "pygments_lexer": "ipython3",
   "version": "3.8.8"
  }
 },
 "nbformat": 4,
 "nbformat_minor": 5
}
